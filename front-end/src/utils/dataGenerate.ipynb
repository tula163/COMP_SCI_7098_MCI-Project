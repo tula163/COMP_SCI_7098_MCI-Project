{
 "cells": [
  {
   "cell_type": "code",
   "execution_count": 1,
   "metadata": {},
   "outputs": [
    {
     "name": "stdout",
     "output_type": "stream",
     "text": [
      "done  CSV\n"
     ]
    }
   ],
   "source": [
    "import pandas as pd\n",
    "import numpy as np\n",
    "from faker import Faker\n",
    "\n",
    "fake = Faker()\n",
    "def generate_random_data(num_samples):\n",
    "    np.random.seed(42)  \n",
    "\n",
    "    ages = np.random.randint(18, 50, num_samples)  # age 18-50 \n",
    "    nationalities = np.random.choice([\"China\", \"India\", \"UK\", \"USA\", \"Canada\", \"Germany\"], num_samples)\n",
    "    marital_status = np.random.choice([\"Single\", \"Married\"], num_samples)\n",
    "    \n",
    "    education_levels = np.random.choice([\"Bachelor\", \"Master\", \"PhD\"], num_samples)\n",
    "    studied_in_aus = np.random.choice([\"Yes\", \"No\"], num_samples, p=[0.3, 0.7])  # 30% study oversea\n",
    "    occupations = np.random.choice([\"Software Engineer\", \"Accountant\", \"Nurse\", \"Chef\", \"Electrician\"], num_samples)\n",
    "    \n",
    "    years_of_experience = np.random.randint(0, 20, num_samples)  # 0-20 years work experience\n",
    "    aus_work_experience = np.where(years_of_experience > 3, \"Yes\", \"No\")  # over 3 years \"Yes\"\n",
    "\n",
    "    ielts_scores = np.random.choice([6.0, 6.5, 7.0, 7.5, 8.0], num_samples)\n",
    "    pte_scores = np.random.choice([50, 58, 65, 72, 79], num_samples)\n",
    "    \n",
    "    visa_types = np.random.choice([\"189\", \"190\", \"491\", \"482\"], num_samples)\n",
    "    financial_proof = np.random.randint(50000, 300000, num_samples)  # 50k - 300k AUD\n",
    "    \n",
    "    employer_sponsorship = np.random.choice([\"Yes\", \"No\"], num_samples, p=[0.2, 0.8])  # 20% employer sponser\n",
    "\n",
    "    # DataFrame\n",
    "    df = pd.DataFrame({\n",
    "        \"Age\": ages,\n",
    "        \"Nationality\": nationalities,\n",
    "        \"Marital Status\": marital_status,\n",
    "        \"Education Level\": education_levels,\n",
    "        \"Studied in Australia\": studied_in_aus,\n",
    "        \"Occupation\": occupations,\n",
    "        \"Years of Experience\": years_of_experience,\n",
    "        \"Australian Work Experience\": aus_work_experience,\n",
    "        \"IELTS Score\": ielts_scores,\n",
    "        \"PTE Score\": pte_scores,\n",
    "        \"Visa Type\": visa_types,\n",
    "        \"Financial Proof (AUD)\": financial_proof,\n",
    "        \"Employer Sponsorship\": employer_sponsorship\n",
    "    })\n",
    "\n",
    "    return df\n",
    "\n",
    "df = generate_random_data(200)\n",
    "\n",
    "\n",
    "df.to_csv(\"../server/data_features.csv\", index=False, encoding='utf-8')\n",
    "print(\"done  CSV\")\n"
   ]
  }
 ],
 "metadata": {
  "kernelspec": {
   "display_name": "base",
   "language": "python",
   "name": "python3"
  },
  "language_info": {
   "codemirror_mode": {
    "name": "ipython",
    "version": 3
   },
   "file_extension": ".py",
   "mimetype": "text/x-python",
   "name": "python",
   "nbconvert_exporter": "python",
   "pygments_lexer": "ipython3",
   "version": "3.12.7"
  }
 },
 "nbformat": 4,
 "nbformat_minor": 2
}
