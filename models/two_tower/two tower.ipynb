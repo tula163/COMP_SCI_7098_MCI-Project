{
 "cells": [
  {
   "cell_type": "code",
   "execution_count": 1,
   "id": "ccd0fc89-39d7-4682-a144-2878a6be267e",
   "metadata": {},
   "outputs": [],
   "source": [
    "import pandas as pd\n",
    "import numpy as np\n",
    "from sklearn.model_selection import train_test_split\n",
    "from sklearn.preprocessing import LabelEncoder, MinMaxScaler\n",
    "from sklearn.utils import shuffle\n",
    "import tensorflow as tf\n",
    "from tensorflow.keras import layers, Model\n",
    "from tensorflow.keras.losses import CosineSimilarity"
   ]
  },
  {
   "cell_type": "code",
   "execution_count": 3,
   "id": "a99829cd-e369-4f64-8d1f-0b8e2dd4d974",
   "metadata": {},
   "outputs": [
    {
     "name": "stdout",
     "output_type": "stream",
     "text": [
      "Epoch 1/10\n",
      "\u001b[1m79/79\u001b[0m \u001b[32m━━━━━━━━━━━━━━━━━━━━\u001b[0m\u001b[37m\u001b[0m \u001b[1m1s\u001b[0m 893us/step - loss: 0.0096 \n",
      "Epoch 2/10\n",
      "\u001b[1m79/79\u001b[0m \u001b[32m━━━━━━━━━━━━━━━━━━━━\u001b[0m\u001b[37m\u001b[0m \u001b[1m0s\u001b[0m 883us/step - loss: 0.0000e+00\n",
      "Epoch 3/10\n",
      "\u001b[1m79/79\u001b[0m \u001b[32m━━━━━━━━━━━━━━━━━━━━\u001b[0m\u001b[37m\u001b[0m \u001b[1m0s\u001b[0m 858us/step - loss: 0.0000e+00\n",
      "Epoch 4/10\n",
      "\u001b[1m79/79\u001b[0m \u001b[32m━━━━━━━━━━━━━━━━━━━━\u001b[0m\u001b[37m\u001b[0m \u001b[1m0s\u001b[0m 868us/step - loss: 0.0000e+00\n",
      "Epoch 5/10\n",
      "\u001b[1m79/79\u001b[0m \u001b[32m━━━━━━━━━━━━━━━━━━━━\u001b[0m\u001b[37m\u001b[0m \u001b[1m0s\u001b[0m 870us/step - loss: 0.0000e+00\n",
      "Epoch 6/10\n",
      "\u001b[1m79/79\u001b[0m \u001b[32m━━━━━━━━━━━━━━━━━━━━\u001b[0m\u001b[37m\u001b[0m \u001b[1m0s\u001b[0m 893us/step - loss: 0.0000e+00\n",
      "Epoch 7/10\n",
      "\u001b[1m79/79\u001b[0m \u001b[32m━━━━━━━━━━━━━━━━━━━━\u001b[0m\u001b[37m\u001b[0m \u001b[1m0s\u001b[0m 860us/step - loss: 0.0000e+00\n",
      "Epoch 8/10\n",
      "\u001b[1m79/79\u001b[0m \u001b[32m━━━━━━━━━━━━━━━━━━━━\u001b[0m\u001b[37m\u001b[0m \u001b[1m0s\u001b[0m 857us/step - loss: 0.0000e+00\n",
      "Epoch 9/10\n",
      "\u001b[1m79/79\u001b[0m \u001b[32m━━━━━━━━━━━━━━━━━━━━\u001b[0m\u001b[37m\u001b[0m \u001b[1m0s\u001b[0m 863us/step - loss: 0.0000e+00\n",
      "Epoch 10/10\n",
      "\u001b[1m79/79\u001b[0m \u001b[32m━━━━━━━━━━━━━━━━━━━━\u001b[0m\u001b[37m\u001b[0m \u001b[1m0s\u001b[0m 944us/step - loss: 0.0000e+00\n",
      "\u001b[1m142/142\u001b[0m \u001b[32m━━━━━━━━━━━━━━━━━━━━\u001b[0m\u001b[37m\u001b[0m \u001b[1m0s\u001b[0m 354us/step\n"
     ]
    }
   ],
   "source": [
    "# Load and preprocess data\n",
    "df = pd.read_csv(\"../datafiles/requirements_data_5.6.csv\")\n",
    "names_df = df[['Full_name', 'MARN']]\n",
    "df = df.drop(columns=['Full_name', 'MARN'], errors='ignore').dropna()\n",
    "\n",
    "categorical_cols = df.select_dtypes(include='object').columns.tolist()\n",
    "numerical_cols = df.select_dtypes(include=['int64', 'float64']).columns.tolist()\n",
    "\n",
    "label_encoders = {}\n",
    "for col in categorical_cols:\n",
    "    le = LabelEncoder()\n",
    "    df[col] = le.fit_transform(df[col])\n",
    "    label_encoders[col] = le\n",
    "\n",
    "scaler = MinMaxScaler()\n",
    "df[numerical_cols] = scaler.fit_transform(df[numerical_cols])\n",
    "\n",
    "# Split data\n",
    "train_df, test_df = train_test_split(df, test_size=0.2, random_state=42)\n",
    "input_dim = df.shape[1]\n",
    "\n",
    "# Create triplet training data\n",
    "def build_triplet_data(data, num_triplets=5000):\n",
    "    anchors, positives, negatives = [], [], []\n",
    "    for _ in range(num_triplets):\n",
    "        a, p = np.random.choice(len(data), 2, replace=False)\n",
    "        n = np.random.choice([i for i in range(len(data)) if i != a])\n",
    "        anchors.append(data.iloc[a].values)\n",
    "        positives.append(data.iloc[p].values)\n",
    "        negatives.append(data.iloc[n].values)\n",
    "    return np.array(anchors), np.array(positives), np.array(negatives)\n",
    "\n",
    "X_anchor, X_positive, X_negative = build_triplet_data(train_df)\n",
    "\n",
    "# Define embedding tower \n",
    "def build_tower(input_dim):\n",
    "    inp = layers.Input(shape=(input_dim,))\n",
    "    x = layers.Dense(128, activation='relu')(inp)\n",
    "    x = layers.Dense(64, activation='relu')(x)\n",
    "    x = layers.Dense(32)(x)\n",
    "    x = layers.Lambda(lambda x: tf.math.l2_normalize(x, axis=1))(x)\n",
    "\n",
    "    return inp, x\n",
    "\n",
    "anchor_in, anchor_vec = build_tower(input_dim)\n",
    "pos_in, pos_vec = build_tower(input_dim)\n",
    "neg_in, neg_vec = build_tower(input_dim)\n",
    "\n",
    "# Triplet loss \n",
    "def triplet_loss(y_true, y_pred):\n",
    "    a, p, n = y_pred[:, :32], y_pred[:, 32:64], y_pred[:, 64:]\n",
    "    pos_dist = tf.reduce_sum(tf.square(a - p), axis=1)\n",
    "    neg_dist = tf.reduce_sum(tf.square(a - n), axis=1)\n",
    "    return tf.reduce_mean(tf.maximum(pos_dist - neg_dist + 0.2, 0))\n",
    "\n",
    "merged = layers.Concatenate()([anchor_vec, pos_vec, neg_vec])\n",
    "model = Model(inputs=[anchor_in, pos_in, neg_in], outputs=merged)\n",
    "model.compile(optimizer='adam', loss=triplet_loss)\n",
    "\n",
    "# Train model\n",
    "model.fit([X_anchor, X_positive, X_negative], np.zeros(len(X_anchor)), epochs=10, batch_size=64, verbose=1)\n",
    "\n",
    "# Export tower model and generate agent embeddings \n",
    "tower_model = Model(inputs=anchor_in, outputs=anchor_vec)\n",
    "agent_embeddings = tower_model.predict(df.to_numpy())\n",
    "\n",
    "\n"
   ]
  },
  {
   "cell_type": "code",
   "execution_count": 4,
   "id": "905355b3-afbf-4d02-bbd6-923308d30334",
   "metadata": {},
   "outputs": [
    {
     "name": "stdout",
     "output_type": "stream",
     "text": [
      "\u001b[1m32/32\u001b[0m \u001b[32m━━━━━━━━━━━━━━━━━━━━\u001b[0m\u001b[37m\u001b[0m \u001b[1m0s\u001b[0m 2ms/step \n",
      "\n",
      "=== score ===\n",
      "Accuracy:  0.9875\n",
      "Precision: 1.0000\n",
      "Recall:    0.9750\n",
      "F1 Score:  0.9873\n",
      "AUC:       1.0000\n",
      "Confusion Matrix:\n",
      "[[1000    0]\n",
      " [  25  975]]\n",
      "\n",
      "Classification Report:\n",
      "               precision    recall  f1-score   support\n",
      "\n",
      "         0.0       0.98      1.00      0.99      1000\n",
      "         1.0       1.00      0.97      0.99      1000\n",
      "\n",
      "    accuracy                           0.99      2000\n",
      "   macro avg       0.99      0.99      0.99      2000\n",
      "weighted avg       0.99      0.99      0.99      2000\n",
      "\n"
     ]
    }
   ],
   "source": [
    "from sklearn.metrics import accuracy_score, precision_score, recall_score, f1_score, roc_auc_score,classification_report, confusion_matrix\n",
    "\n",
    "# Construct the evaluation set\n",
    "def build_triplet_data(data, num_triplets=1000):\n",
    "    anchors, positives, negatives = [], [], []\n",
    "    for _ in range(num_triplets):\n",
    "        a, p = np.random.choice(len(data), 2, replace=False)\n",
    "        n = np.random.choice([i for i in range(len(data)) if i != a])\n",
    "        anchors.append(data.iloc[a].values)\n",
    "        positives.append(data.iloc[p].values)\n",
    "        negatives.append(data.iloc[n].values)\n",
    "    return np.array(anchors), np.array(positives), np.array(negatives)\n",
    "\n",
    "X_anchor_test, X_pos_test, X_neg_test = build_triplet_data(test_df)\n",
    "\n",
    "# The model outputs the feature vector and calculates the similarity\n",
    "y_pred_triplet = model.predict([X_anchor_test, X_pos_test, X_neg_test])\n",
    "a_vec, p_vec, n_vec = y_pred_triplet[:, :32], y_pred_triplet[:, 32:64], y_pred_triplet[:, 64:]\n",
    "\n",
    "\n",
    "cos_sim_ap = np.sum(a_vec * p_vec, axis=1)\n",
    "cos_sim_an = np.sum(a_vec * n_vec, axis=1)\n",
    "\n",
    "# Construct labels and scores\n",
    "y_true = np.concatenate([np.ones_like(cos_sim_ap), np.zeros_like(cos_sim_an)])\n",
    "y_scores = np.concatenate([cos_sim_ap, cos_sim_an])\n",
    "y_pred_binary = (y_scores > 0.5).astype(int)\n",
    "\n",
    "# Output evaluation indicators\n",
    "acc = accuracy_score(y_true, y_pred_binary)\n",
    "prec = precision_score(y_true, y_pred_binary)\n",
    "rec = recall_score(y_true, y_pred_binary)\n",
    "f1 = f1_score(y_true, y_pred_binary)\n",
    "auc = roc_auc_score(y_true, y_scores)\n",
    "cm = confusion_matrix(y_true, y_pred_binary)\n",
    "\n",
    "print(\"\\n=== score ===\")\n",
    "print(f\"Accuracy:  {acc:.4f}\")\n",
    "print(f\"Precision: {prec:.4f}\")\n",
    "print(f\"Recall:    {rec:.4f}\")\n",
    "print(f\"F1 Score:  {f1:.4f}\")\n",
    "print(f\"AUC:       {auc:.4f}\")\n",
    "print(f\"Confusion Matrix:\\n{cm}\")\n",
    "print(\"\\nClassification Report:\\n\", classification_report(y_true, y_pred_binary))\n",
    "\n"
   ]
  },
  {
   "cell_type": "code",
   "execution_count": 5,
   "id": "01da5db3-456e-4e65-abe8-4f9981dc1005",
   "metadata": {},
   "outputs": [],
   "source": [
    "# Recommendation function \n",
    "def recommend(user_input_dict, top_k=3):\n",
    "    user_df = df.iloc[:1].copy()\n",
    "    for key, value in user_input_dict.items():\n",
    "        if key in label_encoders:\n",
    "            le = label_encoders[key]\n",
    "            user_df[key] = le.transform([value])[0] if value in le.classes_ else 0\n",
    "        else:\n",
    "            user_df[key] = value\n",
    "    user_df[numerical_cols] = scaler.transform(user_df[numerical_cols])\n",
    "    user_vec = tower_model.predict(user_df.to_numpy())\n",
    "    sims = tf.linalg.matmul(user_vec, agent_embeddings.T).numpy().flatten()\n",
    "    top_k_idx = sims.argsort()[-top_k:][::-1]\n",
    "    return names_df.iloc[top_k_idx].reset_index(drop=True)\n"
   ]
  },
  {
   "cell_type": "code",
   "execution_count": null,
   "id": "4a7dee08-89c7-45bc-8de3-3dd156c30f56",
   "metadata": {},
   "outputs": [
    {
     "data": {
      "text/plain": [
       "Index(['Experience_years', 'Charge', 'Visa type', 'Booking preference',\n",
       "       'Location', 'Success rate', 'Language', 'Employment Type',\n",
       "       'Google rating', 'Availability'],\n",
       "      dtype='object')"
      ]
     },
     "execution_count": 5,
     "metadata": {},
     "output_type": "execute_result"
    }
   ],
   "source": [
    "df.columns"
   ]
  },
  {
   "cell_type": "code",
   "execution_count": 6,
   "id": "d44ffd65-bcbe-48ba-8522-776309affd93",
   "metadata": {},
   "outputs": [
    {
     "name": "stdout",
     "output_type": "stream",
     "text": [
      "\u001b[1m1/1\u001b[0m \u001b[32m━━━━━━━━━━━━━━━━━━━━\u001b[0m\u001b[37m\u001b[0m \u001b[1m0s\u001b[0m 20ms/step\n",
      "Top 3 Recommended Agents:\n",
      "         Full_name     MARN\n",
      "0  Sadhav Aggarwal  1805183\n",
      "1      Diana Cretu  1685987\n",
      "2   Rajaneesh Shah  1387046\n"
     ]
    }
   ],
   "source": [
    "# Example usage\n",
    "example_input = {\n",
    "    'Experience_years': 5,\n",
    "    'Success rate': '80-90%',\n",
    "    'Language': 'Chinese',\n",
    "    'Booking preference': 'Online',\n",
    "    'Charge':'201-500 AUD',\n",
    "    'Visa type':'491',\n",
    "    'Location':'VIC',\n",
    "    'Employment Type':'Independent',\n",
    "    'Google rating':'4.6',\n",
    "    'Availability':'1 month'\n",
    "}\n",
    "top_agents = recommend(example_input)\n",
    "print(\"Top 3 Recommended Agents:\")\n",
    "print(top_agents)"
   ]
  }
 ],
 "metadata": {
  "kernelspec": {
   "display_name": "base",
   "language": "python",
   "name": "python3"
  },
  "language_info": {
   "codemirror_mode": {
    "name": "ipython",
    "version": 3
   },
   "file_extension": ".py",
   "mimetype": "text/x-python",
   "name": "python",
   "nbconvert_exporter": "python",
   "pygments_lexer": "ipython3",
   "version": "3.12.7"
  }
 },
 "nbformat": 4,
 "nbformat_minor": 5
}
