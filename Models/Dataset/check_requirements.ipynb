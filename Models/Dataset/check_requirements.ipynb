{
 "cells": [
  {
   "cell_type": "code",
   "execution_count": 27,
   "id": "386e48ae-9a49-4ffe-9165-3295944fad29",
   "metadata": {},
   "outputs": [],
   "source": [
    "import pandas as pd\n",
    "import numpy as np"
   ]
  },
  {
   "cell_type": "code",
   "execution_count": 29,
   "id": "0a8da246-ba07-4d0d-851c-9556e2b2a9bc",
   "metadata": {},
   "outputs": [
    {
     "data": {
      "text/html": [
       "<div>\n",
       "<style scoped>\n",
       "    .dataframe tbody tr th:only-of-type {\n",
       "        vertical-align: middle;\n",
       "    }\n",
       "\n",
       "    .dataframe tbody tr th {\n",
       "        vertical-align: top;\n",
       "    }\n",
       "\n",
       "    .dataframe thead th {\n",
       "        text-align: right;\n",
       "    }\n",
       "</style>\n",
       "<table border=\"1\" class=\"dataframe\">\n",
       "  <thead>\n",
       "    <tr style=\"text-align: right;\">\n",
       "      <th></th>\n",
       "      <th>Could you please specify your age range?</th>\n",
       "      <th>What is your educational background?</th>\n",
       "      <th>Could you please indicate the length of your professional experience in your field?</th>\n",
       "      <th>Have you ever used the services of a migration agent before?</th>\n",
       "      <th>Could you please simply specify the type of visa you are currently holding? (e.g., Subclass 500)</th>\n",
       "      <th>Would you prefer to book a migration agent online or schedule an in-person meeting?</th>\n",
       "      <th>How important do you think it is to have a digital platform that matches migrants with the right migration agents?</th>\n",
       "    </tr>\n",
       "  </thead>\n",
       "  <tbody>\n",
       "    <tr>\n",
       "      <th>0</th>\n",
       "      <td>20-24</td>\n",
       "      <td>Bachelor (Undergraduate)</td>\n",
       "      <td>&lt; 1 year</td>\n",
       "      <td>No</td>\n",
       "      <td>188A</td>\n",
       "      <td>In-person Meeting</td>\n",
       "      <td>5</td>\n",
       "    </tr>\n",
       "    <tr>\n",
       "      <th>1</th>\n",
       "      <td>20-24</td>\n",
       "      <td>Bachelor (Undergraduate)</td>\n",
       "      <td>NaN</td>\n",
       "      <td>No</td>\n",
       "      <td>student visa</td>\n",
       "      <td>In-person Meeting</td>\n",
       "      <td>3</td>\n",
       "    </tr>\n",
       "    <tr>\n",
       "      <th>2</th>\n",
       "      <td>20-24</td>\n",
       "      <td>Bachelor (Undergraduate)</td>\n",
       "      <td>1 - 3 years</td>\n",
       "      <td>No</td>\n",
       "      <td>subclass 500</td>\n",
       "      <td>In-person Meeting</td>\n",
       "      <td>5</td>\n",
       "    </tr>\n",
       "    <tr>\n",
       "      <th>3</th>\n",
       "      <td>20-24</td>\n",
       "      <td>Bachelor (Undergraduate)</td>\n",
       "      <td>NaN</td>\n",
       "      <td>Yes</td>\n",
       "      <td>500</td>\n",
       "      <td>Online</td>\n",
       "      <td>5</td>\n",
       "    </tr>\n",
       "    <tr>\n",
       "      <th>4</th>\n",
       "      <td>16-20</td>\n",
       "      <td>Diploma</td>\n",
       "      <td>NaN</td>\n",
       "      <td>Yes</td>\n",
       "      <td>500</td>\n",
       "      <td>Online</td>\n",
       "      <td>4</td>\n",
       "    </tr>\n",
       "  </tbody>\n",
       "</table>\n",
       "</div>"
      ],
      "text/plain": [
       "  Could you please specify your age range?  \\\n",
       "0                                    20-24   \n",
       "1                                    20-24   \n",
       "2                                    20-24   \n",
       "3                                    20-24   \n",
       "4                                    16-20   \n",
       "\n",
       "  What is your educational background?  \\\n",
       "0             Bachelor (Undergraduate)   \n",
       "1             Bachelor (Undergraduate)   \n",
       "2             Bachelor (Undergraduate)   \n",
       "3             Bachelor (Undergraduate)   \n",
       "4                              Diploma   \n",
       "\n",
       "  Could you please indicate the length of your professional experience in your field?  \\\n",
       "0                                           < 1 year                                    \n",
       "1                                                NaN                                    \n",
       "2                                        1 - 3 years                                    \n",
       "3                                                NaN                                    \n",
       "4                                                NaN                                    \n",
       "\n",
       "  Have you ever used the services of a migration agent before?  \\\n",
       "0                                                 No             \n",
       "1                                                 No             \n",
       "2                                                 No             \n",
       "3                                                Yes             \n",
       "4                                                Yes             \n",
       "\n",
       "  Could you please simply specify the type of visa you are currently holding? (e.g., Subclass 500)  \\\n",
       "0                                               188A                                                 \n",
       "1                                       student visa                                                 \n",
       "2                                       subclass 500                                                 \n",
       "3                                                500                                                 \n",
       "4                                                500                                                 \n",
       "\n",
       "  Would you prefer to book a migration agent online or schedule an in-person meeting?  \\\n",
       "0                                  In-person Meeting                                    \n",
       "1                                  In-person Meeting                                    \n",
       "2                                  In-person Meeting                                    \n",
       "3                                             Online                                    \n",
       "4                                             Online                                    \n",
       "\n",
       "   How important do you think it is to have a digital platform that matches migrants with the right migration agents?    \n",
       "0                                                  5                                                                     \n",
       "1                                                  3                                                                     \n",
       "2                                                  5                                                                     \n",
       "3                                                  5                                                                     \n",
       "4                                                  4                                                                     "
      ]
     },
     "execution_count": 29,
     "metadata": {},
     "output_type": "execute_result"
    }
   ],
   "source": [
    "df = pd.read_csv('Migrant Requirements.csv')\n",
    "df.head()\n",
    "# df.shape"
   ]
  },
  {
   "cell_type": "code",
   "execution_count": 31,
   "id": "46228a24-d084-47d9-a34d-caf9c7b3f310",
   "metadata": {},
   "outputs": [
    {
     "name": "stdout",
     "output_type": "stream",
     "text": [
      "['Could you please specify your age range?'\n",
      " 'What is your educational background?'\n",
      " 'Could you please indicate the length of your professional experience in your field?'\n",
      " 'Have you ever used the services of a migration agent before?'\n",
      " 'Could you please simply specify the type of visa you are currently holding? (e.g., Subclass 500)'\n",
      " 'Would you prefer to book a migration agent online or schedule an in-person meeting?'\n",
      " 'How important do you think it is to have a digital platform that matches migrants with the right migration agents?  ']\n"
     ]
    }
   ],
   "source": [
    "columnList = np.array(df.columns)\n",
    "print(columnList)"
   ]
  },
  {
   "cell_type": "code",
   "execution_count": 33,
   "id": "fda01b67-2eae-4c64-96db-9a242e650e6f",
   "metadata": {},
   "outputs": [
    {
     "data": {
      "text/plain": [
       "Could you please specify your age range?                                                                                 0\n",
       "What is your educational background?                                                                                     0\n",
       "Could you please indicate the length of your professional experience in your field?                                     32\n",
       "Have you ever used the services of a migration agent before?                                                             0\n",
       "Could you please simply specify the type of visa you are currently holding? (e.g., Subclass 500)                         1\n",
       "Would you prefer to book a migration agent online or schedule an in-person meeting?                                      0\n",
       "How important do you think it is to have a digital platform that matches migrants with the right migration agents?       0\n",
       "dtype: int64"
      ]
     },
     "execution_count": 33,
     "metadata": {},
     "output_type": "execute_result"
    }
   ],
   "source": [
    "df.isnull().sum()"
   ]
  },
  {
   "cell_type": "code",
   "execution_count": 35,
   "id": "427a7163-4600-44f1-8809-98fae9a762bb",
   "metadata": {},
   "outputs": [
    {
     "data": {
      "text/plain": [
       "Age Range               0\n",
       "Education               0\n",
       "Experience             32\n",
       "Used Agent Before       0\n",
       "Visa Type               1\n",
       "Booking Preference      0\n",
       "Platform Importance     0\n",
       "dtype: int64"
      ]
     },
     "execution_count": 35,
     "metadata": {},
     "output_type": "execute_result"
    }
   ],
   "source": [
    "df = df.rename(columns={\n",
    "    'Could you please specify your age range?': 'Age Range',\n",
    "    'What is your educational background?': 'Education',\n",
    "    'Could you please indicate the length of your professional experience in your field?': 'Experience',\n",
    "    'Have you ever used the services of a migration agent before?': 'Used Agent Before',\n",
    "    'Could you please simply specify the type of visa you are currently holding? (e.g., Subclass 500)': 'Visa Type',\n",
    "    'Would you prefer to book a migration agent online or schedule an in-person meeting?': 'Booking Preference',\n",
    "    'How important do you think it is to have a digital platform that matches migrants with the right migration agents?  ': 'Platform Importance'\n",
    "})\n",
    "df.isnull().sum()"
   ]
  },
  {
   "cell_type": "code",
   "execution_count": 45,
   "id": "25ecf617-af46-4579-bd10-72e8589c5bfa",
   "metadata": {},
   "outputs": [
    {
     "data": {
      "text/plain": [
       "array(['Bachelor (Undergraduate)', 'Diploma', 'Year 12 and below',\n",
       "       'Master', 'Doctorate'], dtype=object)"
      ]
     },
     "execution_count": 45,
     "metadata": {},
     "output_type": "execute_result"
    }
   ],
   "source": [
    "df_copy = df.copy()\n",
    "# df_copy.shape\n",
    "df_copy['Education'].unique()"
   ]
  },
  {
   "cell_type": "code",
   "execution_count": 41,
   "id": "9fdc6a88-7501-483f-b3c8-1a0d1a3b05e0",
   "metadata": {},
   "outputs": [
    {
     "data": {
      "text/plain": [
       "(93, 7)"
      ]
     },
     "execution_count": 41,
     "metadata": {},
     "output_type": "execute_result"
    }
   ],
   "source": [
    "keywords = ['citizen', 'moved', 'naturalized', 'decades', 'years', 'permanent resident']\n",
    "\n",
    "\n",
    "mask = ~df['Visa Type'].str.lower().str.contains('|'.join(keywords), na=False)\n",
    "\n",
    "\n",
    "df_cleaned = df[mask].copy()\n",
    "\n",
    "df_cleaned.shape\n"
   ]
  },
  {
   "cell_type": "code",
   "execution_count": 43,
   "id": "ab6c9347-28bc-4d6e-b471-d47b69018f59",
   "metadata": {},
   "outputs": [
    {
     "data": {
      "text/plain": [
       "Index(['MARN', 'Full_name', 'Business_name', 'Age Range', 'Education',\n",
       "       'Experience', 'Used Agent Before', 'Visa Type', 'Booking Preference',\n",
       "       'Platform Importance'],\n",
       "      dtype='object')"
      ]
     },
     "execution_count": 43,
     "metadata": {},
     "output_type": "execute_result"
    }
   ],
   "source": [
    "agents = pd.read_csv('../PrdData/agents_filled.csv')\n",
    "agents.shape\n",
    "agent_cols = agents[['MARN', 'Full_name', 'Business_name']]\n",
    "\n",
    "target_rows = agents.shape[0]  #  4534\n",
    "\n",
    "# df_copy\n",
    "df_expanded = df_cleaned.copy()\n",
    "\n",
    "rows_to_add = target_rows - df_expanded.shape[0]\n",
    "\n",
    "if rows_to_add > 0:\n",
    "    empty_rows = pd.DataFrame([{}] * rows_to_add, columns=df_expanded.columns)\n",
    "    df_expanded = pd.concat([df_expanded, empty_rows], ignore_index=True)\n",
    "\n",
    "agent_cols = agents[['MARN', 'Full_name', 'Business_name']].reset_index(drop=True)\n",
    "df_expanded = df_expanded.reset_index(drop=True)\n",
    "df_final = pd.concat([agent_cols, df_expanded], axis=1)\n",
    "\n",
    "df_final.shape\n",
    "df_final.columns"
   ]
  },
  {
   "cell_type": "code",
   "execution_count": 28,
   "id": "ab1cfd95-41f5-480f-ba9e-06e942421449",
   "metadata": {},
   "outputs": [
    {
     "data": {
      "text/html": [
       "<div>\n",
       "<style scoped>\n",
       "    .dataframe tbody tr th:only-of-type {\n",
       "        vertical-align: middle;\n",
       "    }\n",
       "\n",
       "    .dataframe tbody tr th {\n",
       "        vertical-align: top;\n",
       "    }\n",
       "\n",
       "    .dataframe thead th {\n",
       "        text-align: right;\n",
       "    }\n",
       "</style>\n",
       "<table border=\"1\" class=\"dataframe\">\n",
       "  <thead>\n",
       "    <tr style=\"text-align: right;\">\n",
       "      <th></th>\n",
       "      <th>MARN</th>\n",
       "      <th>Full_name</th>\n",
       "      <th>Business_name</th>\n",
       "      <th>Age Range</th>\n",
       "      <th>Education</th>\n",
       "      <th>Experience</th>\n",
       "      <th>Used Agent Before</th>\n",
       "      <th>Visa Type</th>\n",
       "      <th>Booking Preference</th>\n",
       "      <th>Platform Importance</th>\n",
       "      <th>...</th>\n",
       "      <th>Children</th>\n",
       "      <th>Skills Assessment</th>\n",
       "      <th>Financial Capacity</th>\n",
       "      <th>Dependents</th>\n",
       "      <th>Residence History</th>\n",
       "      <th>Health Insurance</th>\n",
       "      <th>Marital status</th>\n",
       "      <th>Preferred State</th>\n",
       "      <th>Nationality</th>\n",
       "      <th>Prior Visa Compliance</th>\n",
       "    </tr>\n",
       "  </thead>\n",
       "  <tbody>\n",
       "    <tr>\n",
       "      <th>0</th>\n",
       "      <td>1800328</td>\n",
       "      <td>Kumar Rahul</td>\n",
       "      <td>Blue Stone Migration</td>\n",
       "      <td>20-24</td>\n",
       "      <td>Bachelor (Undergraduate)</td>\n",
       "      <td>&lt; 1 year</td>\n",
       "      <td>No</td>\n",
       "      <td>188A</td>\n",
       "      <td>In-person Meeting</td>\n",
       "      <td>5.0</td>\n",
       "      <td>...</td>\n",
       "      <td>None</td>\n",
       "      <td>None</td>\n",
       "      <td>None</td>\n",
       "      <td>None</td>\n",
       "      <td>None</td>\n",
       "      <td>None</td>\n",
       "      <td>None</td>\n",
       "      <td>None</td>\n",
       "      <td>None</td>\n",
       "      <td>None</td>\n",
       "    </tr>\n",
       "    <tr>\n",
       "      <th>1</th>\n",
       "      <td>1799100</td>\n",
       "      <td>Ramandeep Kaur</td>\n",
       "      <td>Expert Migration Services</td>\n",
       "      <td>20-24</td>\n",
       "      <td>Bachelor (Undergraduate)</td>\n",
       "      <td>NaN</td>\n",
       "      <td>No</td>\n",
       "      <td>student visa</td>\n",
       "      <td>In-person Meeting</td>\n",
       "      <td>3.0</td>\n",
       "      <td>...</td>\n",
       "      <td>None</td>\n",
       "      <td>None</td>\n",
       "      <td>None</td>\n",
       "      <td>None</td>\n",
       "      <td>None</td>\n",
       "      <td>None</td>\n",
       "      <td>None</td>\n",
       "      <td>None</td>\n",
       "      <td>None</td>\n",
       "      <td>None</td>\n",
       "    </tr>\n",
       "    <tr>\n",
       "      <th>2</th>\n",
       "      <td>1799035</td>\n",
       "      <td>Jaspreet Kaur</td>\n",
       "      <td>Nextwave Migration</td>\n",
       "      <td>20-24</td>\n",
       "      <td>Bachelor (Undergraduate)</td>\n",
       "      <td>1 - 3 years</td>\n",
       "      <td>No</td>\n",
       "      <td>subclass 500</td>\n",
       "      <td>In-person Meeting</td>\n",
       "      <td>5.0</td>\n",
       "      <td>...</td>\n",
       "      <td>None</td>\n",
       "      <td>None</td>\n",
       "      <td>None</td>\n",
       "      <td>None</td>\n",
       "      <td>None</td>\n",
       "      <td>None</td>\n",
       "      <td>None</td>\n",
       "      <td>None</td>\n",
       "      <td>None</td>\n",
       "      <td>None</td>\n",
       "    </tr>\n",
       "    <tr>\n",
       "      <th>3</th>\n",
       "      <td>2318090</td>\n",
       "      <td>Balwant Kaur</td>\n",
       "      <td>Harmony immigration services</td>\n",
       "      <td>20-24</td>\n",
       "      <td>Bachelor (Undergraduate)</td>\n",
       "      <td>NaN</td>\n",
       "      <td>Yes</td>\n",
       "      <td>500</td>\n",
       "      <td>Online</td>\n",
       "      <td>5.0</td>\n",
       "      <td>...</td>\n",
       "      <td>None</td>\n",
       "      <td>None</td>\n",
       "      <td>None</td>\n",
       "      <td>None</td>\n",
       "      <td>None</td>\n",
       "      <td>None</td>\n",
       "      <td>None</td>\n",
       "      <td>None</td>\n",
       "      <td>None</td>\n",
       "      <td>None</td>\n",
       "    </tr>\n",
       "    <tr>\n",
       "      <th>4</th>\n",
       "      <td>1570947</td>\n",
       "      <td>Nahida</td>\n",
       "      <td>OZimmi Solutions</td>\n",
       "      <td>16-20</td>\n",
       "      <td>Diploma</td>\n",
       "      <td>NaN</td>\n",
       "      <td>Yes</td>\n",
       "      <td>500</td>\n",
       "      <td>Online</td>\n",
       "      <td>4.0</td>\n",
       "      <td>...</td>\n",
       "      <td>None</td>\n",
       "      <td>None</td>\n",
       "      <td>None</td>\n",
       "      <td>None</td>\n",
       "      <td>None</td>\n",
       "      <td>None</td>\n",
       "      <td>None</td>\n",
       "      <td>None</td>\n",
       "      <td>None</td>\n",
       "      <td>None</td>\n",
       "    </tr>\n",
       "  </tbody>\n",
       "</table>\n",
       "<p>5 rows × 25 columns</p>\n",
       "</div>"
      ],
      "text/plain": [
       "      MARN       Full_name                 Business_name Age Range  \\\n",
       "0  1800328     Kumar Rahul          Blue Stone Migration     20-24   \n",
       "1  1799100  Ramandeep Kaur     Expert Migration Services     20-24   \n",
       "2  1799035   Jaspreet Kaur            Nextwave Migration     20-24   \n",
       "3  2318090    Balwant Kaur  Harmony immigration services     20-24   \n",
       "4  1570947          Nahida              OZimmi Solutions     16-20   \n",
       "\n",
       "                  Education   Experience Used Agent Before     Visa Type  \\\n",
       "0  Bachelor (Undergraduate)     < 1 year                No          188A   \n",
       "1  Bachelor (Undergraduate)          NaN                No  student visa   \n",
       "2  Bachelor (Undergraduate)  1 - 3 years                No  subclass 500   \n",
       "3  Bachelor (Undergraduate)          NaN               Yes           500   \n",
       "4                   Diploma          NaN               Yes           500   \n",
       "\n",
       "  Booking Preference  Platform Importance  ... Children Skills Assessment  \\\n",
       "0  In-person Meeting                  5.0  ...     None              None   \n",
       "1  In-person Meeting                  3.0  ...     None              None   \n",
       "2  In-person Meeting                  5.0  ...     None              None   \n",
       "3             Online                  5.0  ...     None              None   \n",
       "4             Online                  4.0  ...     None              None   \n",
       "\n",
       "  Financial Capacity Dependents Residence History Health Insurance  \\\n",
       "0               None       None              None             None   \n",
       "1               None       None              None             None   \n",
       "2               None       None              None             None   \n",
       "3               None       None              None             None   \n",
       "4               None       None              None             None   \n",
       "\n",
       "  Marital status Preferred State Nationality Prior Visa Compliance  \n",
       "0           None            None        None                  None  \n",
       "1           None            None        None                  None  \n",
       "2           None            None        None                  None  \n",
       "3           None            None        None                  None  \n",
       "4           None            None        None                  None  \n",
       "\n",
       "[5 rows x 25 columns]"
      ]
     },
     "execution_count": 28,
     "metadata": {},
     "output_type": "execute_result"
    }
   ],
   "source": [
    "new_columns = [\n",
    "    'Apply Visa Type', \n",
    "    'Has Health Issues', # yes or no\n",
    "    'Character Requirements', # pass or no\n",
    "    'Occupation', \n",
    "    'English Proficiency', \n",
    "    'Children', \n",
    "    'Skills Assessment',\n",
    "    'Financial Capacity', \n",
    "    # 'Regional Migration Restrictions',\n",
    "    'Dependents', # yes or no\n",
    "    'Residence History', # years of living in austrlian\n",
    "    'Health Insurance', # yes or no \n",
    "    'Marital status', # single / engaged / married\n",
    "    'Preferred State', \n",
    "    'Nationality',\n",
    "    'Prior Visa Compliance', # spectific country  \n",
    "]\n",
    "\n",
    "for col in new_columns:\n",
    "    df_final[col] = None\n",
    "\n",
    "df_final.head()"
   ]
  },
  {
   "cell_type": "code",
   "execution_count": 40,
   "id": "bf8f9a81-6403-43fc-b6ef-0411d22bb6f9",
   "metadata": {},
   "outputs": [
    {
     "name": "stdout",
     "output_type": "stream",
     "text": [
      "1255\n",
      "        MARN                     Full_name\n",
      "13    104705         Aaron Wai Kwong Yeung\n",
      "21    427601              Abdul Hasib Khan\n",
      "22    637156            Abdul Nasir Khaled\n",
      "23    960056             Abdul Nadeem Qazi\n",
      "36    636459                        Ada Ho\n",
      "...      ...                           ...\n",
      "4525  426480             John Graham Adams\n",
      "4526  702049        Katherine Van Greuning\n",
      "4528  640631  Margot Sabine Bettina Obrist\n",
      "4529  532994              Mark Peter Welch\n",
      "4532  848168          Paula Louise McGeown\n",
      "\n",
      "[1255 rows x 2 columns]\n"
     ]
    }
   ],
   "source": [
    "import pandas as pd\n",
    "\n",
    "current_year = 2025\n",
    "agents = pd.read_csv('../PrdData/agents_filled.csv')\n",
    "\n",
    "invalid_marn = agents[agents['MARN'].astype(str).str.len() == 6]\n",
    "print(len(invalid_marn))\n",
    "print(invalid_marn[['MARN', 'Full_name']])"
   ]
  },
  {
   "cell_type": "code",
   "execution_count": 46,
   "id": "ee202dcf-f349-4b03-a000-0eaeb7c1cb9e",
   "metadata": {},
   "outputs": [],
   "source": [
    "\n",
    "def format_marn(marn):\n",
    "    marn_str = str(marn)\n",
    "    if len(marn_str) == 7:\n",
    "        return marn_str        \n",
    "    elif len(marn_str) < 7:\n",
    "        return marn_str.zfill(7)  \n",
    "    else:\n",
    "        return marn_str       \n",
    "\n",
    "agents['MARN'] = agents['MARN'].apply(format_marn)\n"
   ]
  },
  {
   "cell_type": "code",
   "execution_count": 50,
   "id": "8e5ef001-8331-4274-ad29-90726f0bc8be",
   "metadata": {},
   "outputs": [
    {
     "name": "stdout",
     "output_type": "stream",
     "text": [
      "0\n",
      "Empty DataFrame\n",
      "Columns: [MARN, Full_name]\n",
      "Index: []\n"
     ]
    }
   ],
   "source": [
    "\n",
    "invalid_marn = agents[agents['MARN'].astype(str).str.len() != 7]\n",
    "\n",
    "print(len(invalid_marn))\n",
    "print(invalid_marn[['MARN', 'Full_name']])"
   ]
  },
  {
   "cell_type": "code",
   "execution_count": 54,
   "id": "76be99cf-a412-409a-801f-b8fe0addb5d4",
   "metadata": {},
   "outputs": [],
   "source": [
    "agents['start_year'] = agents['MARN'].astype(str).str[:2].astype(int)\n",
    "agents['start_year'] = agents['start_year'].apply(lambda x: 2000 + x if x < current_year % 100 + 1 else 1900 + x)\n",
    "\n",
    "\n",
    "agents['Experience_years'] = current_year - agents['start_year']\n",
    "\n",
    "# print(agents[['MARN', 'Full_name', 'Experience_years']].head())\n",
    "\n",
    "agents.to_csv('agents_data.csv', index=False)\n"
   ]
  },
  {
   "cell_type": "code",
   "execution_count": 30,
   "id": "3277afd5-aea0-44d6-b814-e9e725112038",
   "metadata": {},
   "outputs": [
    {
     "data": {
      "text/plain": [
       "MARN                         0\n",
       "Full_name                    0\n",
       "Business_name                0\n",
       "Age Range                 4441\n",
       "Education                 4441\n",
       "Experience                4471\n",
       "Used Agent Before         4441\n",
       "Visa Type                 4442\n",
       "Booking Preference        4441\n",
       "Platform Importance       4441\n",
       "Apply Visa Type           4534\n",
       "Has Health Issues         4534\n",
       "Character Requirements    4534\n",
       "Occupation                4534\n",
       "English Proficiency       4534\n",
       "Children                  4534\n",
       "Skills Assessment         4534\n",
       "Financial Capacity        4534\n",
       "Dependents                4534\n",
       "Residence History         4534\n",
       "Health Insurance          4534\n",
       "Marital status            4534\n",
       "Preferred State           4534\n",
       "Nationality               4534\n",
       "Prior Visa Compliance     4534\n",
       "dtype: int64"
      ]
     },
     "execution_count": 30,
     "metadata": {},
     "output_type": "execute_result"
    }
   ],
   "source": [
    "df_final.isnull().sum()"
   ]
  },
  {
   "cell_type": "code",
   "execution_count": 44,
   "id": "42285820-6c69-4da6-84be-ffcc3092ebb8",
   "metadata": {},
   "outputs": [
    {
     "data": {
      "text/plain": [
       "array(['< 1 year', '1 - 3 years', '> 5 years', '0', '3 - 5 years'],\n",
       "      dtype=object)"
      ]
     },
     "execution_count": 44,
     "metadata": {},
     "output_type": "execute_result"
    }
   ],
   "source": [
    "from faker import Faker\n",
    "import random\n",
    "\n",
    "fake = Faker(\"en_AU\")\n",
    "num_rows = len(df_final)\n",
    "\n",
    "age_ranges = ['< 16', '16-20', '20-24', '25-33', '33-40', '40+']\n",
    "weights =    [0.02,   0.15,    0.45,    0.2,     0.1,    0.08] \n",
    "\n",
    "df_final['Age Range'] = df_final['Age Range'].apply(\n",
    "    lambda x: x if pd.notnull(x) else random.choices(age_ranges, weights=weights)[0]\n",
    ")\n",
    "\n",
    "\n",
    "\n",
    "df_final['Education'] = df_final['Education'].apply(\n",
    "    lambda x: x if pd.notnull(x) else random.choice(['High School', 'Bachelor', 'Master', 'PhD'])\n",
    ")\n",
    "\n",
    "df_final['Experience'] = df_final['Experience'].apply(\n",
    "    lambda x: x if pd.notnull(x) else random.choice(['0', '< 1 year', '1 - 3 years', '> 5 years'])\n",
    ")\n",
    "\n",
    "df_final['Used Agent Before'] = df_final['Used Agent Before'].apply(\n",
    "    lambda x: x if pd.notnull(x) else random.choice(['Yes', 'No'])\n",
    ")\n",
    "\n",
    "df_final['Visa Type'] = df_final['Visa Type'].apply(\n",
    "    lambda x: x if pd.notnull(x) else random.choice(['500', '485', '190', '888'])\n",
    ")\n",
    "\n",
    "df_final['Booking Preference'] = df_final['Booking Preference'].apply(\n",
    "    lambda x: x if pd.notnull(x) else random.choice(['Online', 'In-person Meeting'])\n",
    ")\n",
    "\n",
    "df_final['Platform Importance'] = df_final['Platform Importance'].apply(\n",
    "    lambda x: x if pd.notnull(x) else random.randint(1, 5)\n",
    ")\n",
    "\n",
    "# df_final['Health Requirements'] = df_final['Health Requirements'].apply(\n",
    "#     lambda x: x if pd.notnull(x) else random.choice(['Yes', 'No'])\n",
    "# )\n",
    "\n",
    "# df_final['Regional Migration Restrictions'] = df_final['Regional Migration Restrictions'].apply(\n",
    "#     lambda x: x if pd.notnull(x) else random.choice(['Yes', 'No'])\n",
    "# )\n",
    "\n",
    "\n",
    "\n",
    "df_final['Apply Visa Type'] = random.choices(['Subclass 485', 'Subclass 500', 'Subclass 190', 'Subclass 820'], k=num_rows)\n",
    "df_final['Has Health Issues'] = random.choices(['yes', 'no'], k=num_rows)\n",
    "df_final['Character Requirements'] = random.choices(['pass', 'fail'], k=num_rows)\n",
    "df_final['Occupation'] = [fake.job() for _ in range(num_rows)]\n",
    "df_final['English Proficiency'] = random.choices(['Basic', 'Intermediate', 'Advanced', 'Fluent'], k=num_rows)\n",
    "df_final['Children'] = [random.randint(0, 3) for _ in range(num_rows)]\n",
    "df_final['Skills Assessment'] = random.choices(['pass', 'fail'], k=num_rows)\n",
    "df_final['Financial Capacity'] = random.choices(['Low', 'Medium', 'High'], k=num_rows)\n",
    "df_final['Dependents'] = random.choices(['yes', 'no'], k=num_rows)\n",
    "df_final['Residence History'] = [random.randint(0, 10) for _ in range(num_rows)]\n",
    "df_final['Health Insurance'] = random.choices(['yes', 'no'], k=num_rows)\n",
    "df_final['Marital status'] = random.choices(['Single', 'Engaged', 'Married'], k=num_rows)\n",
    "df_final['Preferred State'] = random.choices(['NSW', 'VIC', 'QLD', 'SA', 'WA', 'TAS', 'ACT', 'NT'], k=num_rows)\n",
    "df_final['Nationality'] = [fake.country() for _ in range(num_rows)]\n",
    "df_final['Prior Visa Compliance'] = random.choices(['Compliant', 'Non-compliant'], k=num_rows)\n",
    "\n",
    "\n",
    "\n",
    "\n",
    "df_final['Experience'].unique()"
   ]
  },
  {
   "cell_type": "code",
   "execution_count": 86,
   "id": "b0e4e128-28c2-44bf-a57a-0a84566b8ae7",
   "metadata": {},
   "outputs": [
    {
     "data": {
      "text/plain": [
       "MARN                               0\n",
       "Full_name                          0\n",
       "Business_name                      0\n",
       "Age Range                          0\n",
       "Education                          0\n",
       "Experience                         0\n",
       "Used Agent Before                  0\n",
       "Visa Type                          0\n",
       "Booking Preference                 0\n",
       "Platform Importance                0\n",
       "Health Requirements                0\n",
       "Character Requirements             0\n",
       "Occupation                         0\n",
       "English Proficiency                0\n",
       "Skills Assessment                  0\n",
       "Financial Capacity                 0\n",
       "Regional Migration Restrictions    0\n",
       "Dependents                         0\n",
       "Residence History                  0\n",
       "Health Insurance                   0\n",
       "Marital status                     0\n",
       "Preferred State                    0\n",
       "Nationality                        0\n",
       "Prior Visa Compliance              0\n",
       "Apply Visa Type                    0\n",
       "Has Health Issues                  0\n",
       "Children                           0\n",
       "dtype: int64"
      ]
     },
     "execution_count": 86,
     "metadata": {},
     "output_type": "execute_result"
    }
   ],
   "source": [
    "df_final.isnull().sum()"
   ]
  },
  {
   "cell_type": "code",
   "execution_count": 88,
   "id": "e04aee7e-3ced-4cde-a3e7-1323afbad7cc",
   "metadata": {},
   "outputs": [],
   "source": [
    "df_final.to_csv('requirements_filled.csv', index=False)"
   ]
  }
 ],
 "metadata": {
  "kernelspec": {
   "display_name": "Python [conda env:base] *",
   "language": "python",
   "name": "conda-base-py"
  },
  "language_info": {
   "codemirror_mode": {
    "name": "ipython",
    "version": 3
   },
   "file_extension": ".py",
   "mimetype": "text/x-python",
   "name": "python",
   "nbconvert_exporter": "python",
   "pygments_lexer": "ipython3",
   "version": "3.12.2"
  }
 },
 "nbformat": 4,
 "nbformat_minor": 5
}
